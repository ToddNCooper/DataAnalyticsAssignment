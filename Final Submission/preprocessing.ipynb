{
 "cells": [
  {
   "cell_type": "code",
   "execution_count": 16,
   "metadata": {},
   "outputs": [],
   "source": [
    "import pandas as pd\n",
    "import numpy as np\n",
    "import matplotlib.pyplot as plt\n",
    "import seaborn as sns"
   ]
  },
  {
   "attachments": {},
   "cell_type": "markdown",
   "metadata": {},
   "source": [
    "# Part 1 - Data Preparation and Preprocessing"
   ]
  },
  {
   "attachments": {},
   "cell_type": "markdown",
   "metadata": {},
   "source": [
    "## Understand Dataset"
   ]
  },
  {
   "attachments": {},
   "cell_type": "markdown",
   "metadata": {},
   "source": [
    "### Load datatset\n",
    "* Categories/domains \n",
    "* Data types\n",
    "\n"
   ]
  },
  {
   "cell_type": "code",
   "execution_count": 17,
   "metadata": {},
   "outputs": [
    {
     "name": "stderr",
     "output_type": "stream",
     "text": [
      "C:\\Users\\James\\AppData\\Local\\Temp\\ipykernel_4472\\2036481670.py:1: DtypeWarning: Columns (0,4,5,6,7) have mixed types. Specify dtype option on import or set low_memory=False.\n",
      "  df = pd.read_csv(\"data.csv\")\n"
     ]
    },
    {
     "data": {
      "text/html": [
       "<div>\n",
       "<style scoped>\n",
       "    .dataframe tbody tr th:only-of-type {\n",
       "        vertical-align: middle;\n",
       "    }\n",
       "\n",
       "    .dataframe tbody tr th {\n",
       "        vertical-align: top;\n",
       "    }\n",
       "\n",
       "    .dataframe thead th {\n",
       "        text-align: right;\n",
       "    }\n",
       "</style>\n",
       "<table border=\"1\" class=\"dataframe\">\n",
       "  <thead>\n",
       "    <tr style=\"text-align: right;\">\n",
       "      <th></th>\n",
       "      <th>Id</th>\n",
       "      <th>Title</th>\n",
       "      <th>Company</th>\n",
       "      <th>Date</th>\n",
       "      <th>Location</th>\n",
       "      <th>Area</th>\n",
       "      <th>Classification</th>\n",
       "      <th>SubClassification</th>\n",
       "      <th>Requirement</th>\n",
       "      <th>FullDescription</th>\n",
       "      <th>LowestSalary</th>\n",
       "      <th>HighestSalary</th>\n",
       "      <th>JobType</th>\n",
       "    </tr>\n",
       "  </thead>\n",
       "  <tbody>\n",
       "    <tr>\n",
       "      <th>0</th>\n",
       "      <td>37404348</td>\n",
       "      <td>Casual Stock Replenisher</td>\n",
       "      <td>Aldi Stores</td>\n",
       "      <td>2018-10-07T00:00:00.000Z</td>\n",
       "      <td>Sydney</td>\n",
       "      <td>North West &amp; Hills District</td>\n",
       "      <td>Retail &amp; Consumer Products</td>\n",
       "      <td>Retail Assistants</td>\n",
       "      <td>Our Casual Stock Replenishers pride themselves...</td>\n",
       "      <td>NaN</td>\n",
       "      <td>0</td>\n",
       "      <td>30</td>\n",
       "      <td>NaN</td>\n",
       "    </tr>\n",
       "    <tr>\n",
       "      <th>1</th>\n",
       "      <td>37404337</td>\n",
       "      <td>Casual Stock Replenisher</td>\n",
       "      <td>Aldi Stores</td>\n",
       "      <td>2018-10-07T00:00:00.000Z</td>\n",
       "      <td>Richmond &amp; Hawkesbury</td>\n",
       "      <td>NaN</td>\n",
       "      <td>Retail &amp; Consumer Products</td>\n",
       "      <td>Retail Assistants</td>\n",
       "      <td>Our Casual Stock Replenishers pride themselves...</td>\n",
       "      <td>NaN</td>\n",
       "      <td>0</td>\n",
       "      <td>30</td>\n",
       "      <td>NaN</td>\n",
       "    </tr>\n",
       "    <tr>\n",
       "      <th>2</th>\n",
       "      <td>37404356</td>\n",
       "      <td>RETAIL SALES SUPERSTARS and STYLISTS Wanted - ...</td>\n",
       "      <td>LB Creative Pty Ltd</td>\n",
       "      <td>2018-10-07T00:00:00.000Z</td>\n",
       "      <td>Brisbane</td>\n",
       "      <td>CBD &amp; Inner Suburbs</td>\n",
       "      <td>Retail &amp; Consumer Products</td>\n",
       "      <td>Retail Assistants</td>\n",
       "      <td>BRAND NEW FLAGSHIP STORE OPENING - SUNSHINE PLAZA</td>\n",
       "      <td>NaN</td>\n",
       "      <td>0</td>\n",
       "      <td>30</td>\n",
       "      <td>NaN</td>\n",
       "    </tr>\n",
       "    <tr>\n",
       "      <th>3</th>\n",
       "      <td>37404330</td>\n",
       "      <td>Team member - Belrose</td>\n",
       "      <td>Anaconda Group Pty Ltd</td>\n",
       "      <td>2018-10-07T00:00:00.000Z</td>\n",
       "      <td>Gosford &amp; Central Coast</td>\n",
       "      <td>NaN</td>\n",
       "      <td>Retail &amp; Consumer Products</td>\n",
       "      <td>Retail Assistants</td>\n",
       "      <td>Bring it on - do you love the great outdoors a...</td>\n",
       "      <td>NaN</td>\n",
       "      <td>0</td>\n",
       "      <td>30</td>\n",
       "      <td>NaN</td>\n",
       "    </tr>\n",
       "    <tr>\n",
       "      <th>4</th>\n",
       "      <td>37404308</td>\n",
       "      <td>Business Banking Contact Centre Specialist, Ni...</td>\n",
       "      <td>Commonwealth Bank - Business &amp; Private Banking</td>\n",
       "      <td>2018-10-07T00:00:00.000Z</td>\n",
       "      <td>Sydney</td>\n",
       "      <td>Ryde &amp; Macquarie Park</td>\n",
       "      <td>Call Centre &amp; Customer Service</td>\n",
       "      <td>Sales - Inbound</td>\n",
       "      <td>We are seeking highly articulate, enthusiastic...</td>\n",
       "      <td>NaN</td>\n",
       "      <td>0</td>\n",
       "      <td>30</td>\n",
       "      <td>NaN</td>\n",
       "    </tr>\n",
       "  </tbody>\n",
       "</table>\n",
       "</div>"
      ],
      "text/plain": [
       "         Id                                              Title  \\\n",
       "0  37404348                           Casual Stock Replenisher   \n",
       "1  37404337                           Casual Stock Replenisher   \n",
       "2  37404356  RETAIL SALES SUPERSTARS and STYLISTS Wanted - ...   \n",
       "3  37404330                              Team member - Belrose   \n",
       "4  37404308  Business Banking Contact Centre Specialist, Ni...   \n",
       "\n",
       "                                          Company                      Date  \\\n",
       "0                                     Aldi Stores  2018-10-07T00:00:00.000Z   \n",
       "1                                     Aldi Stores  2018-10-07T00:00:00.000Z   \n",
       "2                             LB Creative Pty Ltd  2018-10-07T00:00:00.000Z   \n",
       "3                          Anaconda Group Pty Ltd  2018-10-07T00:00:00.000Z   \n",
       "4  Commonwealth Bank - Business & Private Banking  2018-10-07T00:00:00.000Z   \n",
       "\n",
       "                  Location                         Area  \\\n",
       "0                   Sydney  North West & Hills District   \n",
       "1    Richmond & Hawkesbury                          NaN   \n",
       "2                 Brisbane          CBD & Inner Suburbs   \n",
       "3  Gosford & Central Coast                          NaN   \n",
       "4                   Sydney        Ryde & Macquarie Park   \n",
       "\n",
       "                   Classification  SubClassification  \\\n",
       "0      Retail & Consumer Products  Retail Assistants   \n",
       "1      Retail & Consumer Products  Retail Assistants   \n",
       "2      Retail & Consumer Products  Retail Assistants   \n",
       "3      Retail & Consumer Products  Retail Assistants   \n",
       "4  Call Centre & Customer Service    Sales - Inbound   \n",
       "\n",
       "                                         Requirement FullDescription  \\\n",
       "0  Our Casual Stock Replenishers pride themselves...             NaN   \n",
       "1  Our Casual Stock Replenishers pride themselves...             NaN   \n",
       "2  BRAND NEW FLAGSHIP STORE OPENING - SUNSHINE PLAZA             NaN   \n",
       "3  Bring it on - do you love the great outdoors a...             NaN   \n",
       "4  We are seeking highly articulate, enthusiastic...             NaN   \n",
       "\n",
       "   LowestSalary  HighestSalary JobType  \n",
       "0             0             30     NaN  \n",
       "1             0             30     NaN  \n",
       "2             0             30     NaN  \n",
       "3             0             30     NaN  \n",
       "4             0             30     NaN  "
      ]
     },
     "execution_count": 17,
     "metadata": {},
     "output_type": "execute_result"
    }
   ],
   "source": [
    "df = pd.read_csv(\"data.csv\")\n",
    "df.head()"
   ]
  },
  {
   "cell_type": "code",
   "execution_count": 18,
   "metadata": {},
   "outputs": [
    {
     "name": "stdout",
     "output_type": "stream",
     "text": [
      "Dataset Size:  4140201 \n",
      "\n",
      "<class 'pandas.core.frame.DataFrame'>\n",
      "RangeIndex: 318477 entries, 0 to 318476\n",
      "Data columns (total 13 columns):\n",
      " #   Column             Non-Null Count   Dtype \n",
      "---  ------             --------------   ----- \n",
      " 0   Id                 318477 non-null  object\n",
      " 1   Title              318477 non-null  object\n",
      " 2   Company            306473 non-null  object\n",
      " 3   Date               318477 non-null  object\n",
      " 4   Location           197229 non-null  object\n",
      " 5   Area               122658 non-null  object\n",
      " 6   Classification     197229 non-null  object\n",
      " 7   SubClassification  197229 non-null  object\n",
      " 8   Requirement        318470 non-null  object\n",
      " 9   FullDescription    302302 non-null  object\n",
      " 10  LowestSalary       318477 non-null  int64 \n",
      " 11  HighestSalary      318477 non-null  int64 \n",
      " 12  JobType            302379 non-null  object\n",
      "dtypes: int64(2), object(11)\n",
      "memory usage: 31.6+ MB\n"
     ]
    }
   ],
   "source": [
    "print(\"Dataset Size: \", df.size, \"\\n\")\n",
    "\n",
    "df.info()"
   ]
  },
  {
   "cell_type": "code",
   "execution_count": 19,
   "metadata": {},
   "outputs": [
    {
     "data": {
      "text/plain": [
       "Id                   object\n",
       "Title                object\n",
       "Company              object\n",
       "Date                 object\n",
       "Location             object\n",
       "Area                 object\n",
       "Classification       object\n",
       "SubClassification    object\n",
       "Requirement          object\n",
       "FullDescription      object\n",
       "LowestSalary          int64\n",
       "HighestSalary         int64\n",
       "JobType              object\n",
       "dtype: object"
      ]
     },
     "execution_count": 19,
     "metadata": {},
     "output_type": "execute_result"
    }
   ],
   "source": [
    "df.dtypes"
   ]
  },
  {
   "attachments": {},
   "cell_type": "markdown",
   "metadata": {},
   "source": [
    "* Location, Classification, SubClassification appear to have roughly 30%-40% Null values\n",
    "* Area having roughly 60% Null"
   ]
  },
  {
   "cell_type": "code",
   "execution_count": 20,
   "metadata": {},
   "outputs": [
    {
     "name": "stdout",
     "output_type": "stream",
     "text": [
      "Categories: \n",
      " Index(['Id', 'Title', 'Company', 'Date', 'Location', 'Area', 'Classification',\n",
      "       'SubClassification', 'Requirement', 'FullDescription', 'LowestSalary',\n",
      "       'HighestSalary', 'JobType'],\n",
      "      dtype='object')\n",
      "\n",
      "Size of each variation of categories:\n",
      "Id: 318477\n",
      "Title: 168065\n",
      "Company: 40629\n",
      "Date: 163\n",
      "Location: 66\n",
      "Area: 20\n",
      "Classification: 31\n",
      "SubClassification: 339\n",
      "Requirement: 234288\n",
      "FullDescription: 250902\n",
      "LowestSalary: 11\n",
      "HighestSalary: 11\n",
      "JobType: 5\n"
     ]
    }
   ],
   "source": [
    "#Print all columns of dataset\n",
    "print(\"Categories: \\n\", df.columns)\n",
    "\n",
    "#Print number of unique values of each column\n",
    "print(\"\\nSize of each variation of categories:\")\n",
    "for column in df:\n",
    "    print(column + \":\", df[column].unique().size)\n"
   ]
  },
  {
   "cell_type": "code",
   "execution_count": 21,
   "metadata": {},
   "outputs": [
    {
     "name": "stdout",
     "output_type": "stream",
     "text": [
      "Unique values in Title column:\n",
      " ['Casual Stock Replenisher'\n",
      " 'RETAIL SALES SUPERSTARS and STYLISTS Wanted - Womens Fashion - SUNSHINE PLAZA'\n",
      " 'Team member - Belrose' ... 'Web Content Writer - June 2019 contract'\n",
      " 'Brand Director - Global Premium Brand' 'Head of Operations - EOI'] \n",
      "\n",
      "Unique values in Company column:\n",
      " ['Aldi Stores' 'LB Creative Pty Ltd' 'Anaconda Group Pty Ltd' ...\n",
      " 'Radiology Tasmania' 'Maryvale Private Hospital'\n",
      " 'Immanuel Lutheran College'] \n",
      "\n",
      "Unique values in Date column:\n",
      " ['2018-10-07T00:00:00.000Z' '2018-10-06T00:00:00.000Z'\n",
      " '2018-10-05T00:00:00.000Z' '2018-10-04T00:00:00.000Z'\n",
      " '2018-10-03T00:00:00.000Z' '2018-10-02T00:00:00.000Z'\n",
      " '2018-10-01T00:00:00.000Z' '2018-10-10T00:00:00.000Z'\n",
      " '2018-10-09T00:00:00.000Z' '2018-10-08T00:00:00.000Z'\n",
      " '2018-10-17T00:00:00.000Z' '2018-10-16T00:00:00.000Z'\n",
      " '2018-10-15T00:00:00.000Z' '2018-10-14T00:00:00.000Z'\n",
      " '2018-10-13T00:00:00.000Z' '2018-10-12T00:00:00.000Z'\n",
      " '2018-10-11T00:00:00.000Z' '2018-10-21T00:00:00.000Z'\n",
      " '2018-10-20T00:00:00.000Z' '2018-10-19T00:00:00.000Z'\n",
      " '2018-10-18T00:00:00.000Z' '2018-10-26T00:00:00.000Z'\n",
      " '2018-10-29T00:00:00.000Z' '2018-10-25T00:00:00.000Z'\n",
      " '2018-10-24T00:00:00.000Z' '2018-10-28T00:00:00.000Z'\n",
      " '2018-10-27T00:00:00.000Z' '2018-10-23T00:00:00.000Z'\n",
      " '2018-10-22T00:00:00.000Z' '2018-10-31T00:00:00.000Z'\n",
      " '2018-10-30T00:00:00.000Z' '2018-11-07T00:00:00.000Z'\n",
      " '2018-11-06T00:00:00.000Z' '2018-11-05T00:00:00.000Z'\n",
      " '2018-11-04T00:00:00.000Z' '2018-11-03T00:00:00.000Z'\n",
      " '2018-11-02T00:00:00.000Z' '2018-11-01T00:00:00.000Z'\n",
      " '2018-11-12T00:00:00.000Z' '2018-11-11T00:00:00.000Z'\n",
      " '2018-11-10T00:00:00.000Z' '2018-11-09T00:00:00.000Z'\n",
      " '2018-11-08T00:00:00.000Z' '2018-11-13T00:00:00.000Z'\n",
      " '2018-11-20T00:00:00.000Z' '2018-11-19T00:00:00.000Z'\n",
      " '2018-11-15T00:00:00.000Z' '2018-11-16T00:00:00.000Z'\n",
      " '2018-11-17T00:00:00.000Z' '2018-11-14T00:00:00.000Z'\n",
      " '2018-11-18T00:00:00.000Z' '2018-11-21T00:00:00.000Z'\n",
      " '2018-11-24T00:00:00.000Z' '2018-11-22T00:00:00.000Z'\n",
      " '2018-11-23T00:00:00.000Z' '2018-11-25T00:00:00.000Z'\n",
      " '2018-11-28T00:00:00.000Z' '2018-11-27T00:00:00.000Z'\n",
      " '2018-11-26T00:00:00.000Z' '2018-12-11T00:00:00.000Z'\n",
      " '2018-12-16T00:00:00.000Z' '2018-12-15T00:00:00.000Z'\n",
      " '2018-12-14T00:00:00.000Z' '2018-12-13T00:00:00.000Z'\n",
      " '2018-12-12T00:00:00.000Z' '2018-12-10T00:00:00.000Z'\n",
      " '2018-12-09T00:00:00.000Z' '2018-12-08T00:00:00.000Z'\n",
      " '2018-12-07T00:00:00.000Z' '2018-12-06T00:00:00.000Z'\n",
      " '2018-12-05T00:00:00.000Z' '2018-12-04T00:00:00.000Z'\n",
      " '2018-12-03T00:00:00.000Z' '2018-12-02T00:00:00.000Z'\n",
      " '2018-12-01T00:00:00.000Z' '2018-11-30T00:00:00.000Z'\n",
      " '2018-11-29T00:00:00.000Z' '2018-12-27T00:00:00.000Z'\n",
      " '2018-12-19T00:00:00.000Z' '2018-12-21T00:00:00.000Z'\n",
      " '2018-12-24T00:00:00.000Z' '2018-12-23T00:00:00.000Z'\n",
      " '2018-12-20T00:00:00.000Z' '2018-12-26T00:00:00.000Z'\n",
      " '2018-12-18T00:00:00.000Z' '2018-12-25T00:00:00.000Z'\n",
      " '2018-12-22T00:00:00.000Z' '2018-12-17T00:00:00.000Z'\n",
      " '2019-01-01T00:00:00.000Z' '2018-12-31T00:00:00.000Z'\n",
      " '2018-12-30T00:00:00.000Z' '2018-12-29T00:00:00.000Z'\n",
      " '2018-12-28T00:00:00.000Z' '2019-01-06T00:00:00.000Z'\n",
      " '2019-01-05T00:00:00.000Z' '2019-01-04T00:00:00.000Z'\n",
      " '2019-01-03T00:00:00.000Z' '2019-01-02T00:00:00.000Z'\n",
      " '2019-01-12T00:00:00.000Z' '2019-01-11T00:00:00.000Z'\n",
      " '2019-01-10T00:00:00.000Z' '2019-01-09T00:00:00.000Z'\n",
      " '2019-01-08T00:00:00.000Z' '2019-01-07T00:00:00.000Z'\n",
      " '2019-01-14T00:00:00.000Z' '2019-01-15T00:00:00.000Z'\n",
      " '2019-01-13T00:00:00.000Z' '2019-01-17T00:00:00.000Z'\n",
      " '2019-01-16T00:00:00.000Z' '2019-01-22T00:00:00.000Z'\n",
      " '2019-01-21T00:00:00.000Z' '2019-01-20T00:00:00.000Z'\n",
      " '2019-01-19T00:00:00.000Z' '2019-01-18T00:00:00.000Z'\n",
      " '2019-01-24T00:00:00.000Z' '2019-01-28T00:00:00.000Z'\n",
      " '2019-01-23T00:00:00.000Z' '2019-01-26T00:00:00.000Z'\n",
      " '2019-01-27T00:00:00.000Z' '2019-01-25T00:00:00.000Z'\n",
      " '2019-02-04T00:00:00.000Z' '2019-02-01T00:00:00.000Z'\n",
      " '2019-01-30T00:00:00.000Z' '2019-02-03T00:00:00.000Z'\n",
      " '2019-01-29T00:00:00.000Z' '2019-01-31T00:00:00.000Z'\n",
      " '2019-02-02T00:00:00.000Z' '2019-02-18T00:00:00.000Z'\n",
      " '2019-02-13T00:00:00.000Z' '2019-02-15T00:00:00.000Z'\n",
      " '2019-02-16T00:00:00.000Z' '2019-02-11T00:00:00.000Z'\n",
      " '2019-02-14T00:00:00.000Z' '2019-02-12T00:00:00.000Z'\n",
      " '2019-02-17T00:00:00.000Z' '2019-02-08T00:00:00.000Z'\n",
      " '2019-02-10T00:00:00.000Z' '2019-02-07T00:00:00.000Z'\n",
      " '2019-02-06T00:00:00.000Z' '2019-02-09T00:00:00.000Z'\n",
      " '2019-02-05T00:00:00.000Z' '2019-02-26T00:00:00.000Z'\n",
      " '2019-02-25T00:00:00.000Z' '2019-02-20T00:00:00.000Z'\n",
      " '2019-02-23T00:00:00.000Z' '2019-02-24T00:00:00.000Z'\n",
      " '2019-02-22T00:00:00.000Z' '2019-02-19T00:00:00.000Z'\n",
      " '2019-02-21T00:00:00.000Z' '2019-03-01T00:00:00.000Z'\n",
      " '2019-02-27T00:00:00.000Z' '2019-02-28T00:00:00.000Z'\n",
      " '2019-03-07T00:00:00.000Z' '2019-03-05T00:00:00.000Z'\n",
      " '2019-03-06T00:00:00.000Z' '2019-03-04T00:00:00.000Z'\n",
      " '2019-03-03T00:00:00.000Z' '2019-03-12T00:00:00.000Z'\n",
      " '2019-03-09T00:00:00.000Z' '2019-03-13T00:00:00.000Z'\n",
      " '2019-03-11T00:00:00.000Z' '2019-03-10T00:00:00.000Z'\n",
      " '2019-03-08T00:00:00.000Z'] \n",
      "\n",
      "Unique values in Location column:\n",
      " ['Sydney' 'Richmond & Hawkesbury' 'Brisbane' 'Gosford & Central Coast'\n",
      " 'Adelaide' 'Melbourne' 'Perth' 'Mackay & Coalfields' 'Sunshine Coast'\n",
      " 'Gold Coast' 'West Gippsland & Latrobe Valley'\n",
      " 'Hervey Bay & Fraser Coast' 'South West Coast VIC'\n",
      " 'Mornington Peninsula & Bass Coast' 'Port Hedland, Karratha & Pilbara'\n",
      " 'Ballarat & Central Highlands' 'Bendigo, Goldfields & Macedon Ranges'\n",
      " 'Yarra Valley & High Country' 'Coffs Harbour & North Coast'\n",
      " 'Newcastle, Maitland & Hunter' 'Tumut, Snowy & Monaro' 'Darwin'\n",
      " 'Toowoomba & Darling Downs' 'ACT' 'Wollongong, Illawarra & South Coast'\n",
      " 'Port Macquarie & Mid North Coast' 'Southern Highlands & Tablelands'\n",
      " 'Albury Area' 'Yorke Peninsula & Clare Valley'\n",
      " 'Kalgoorlie, Goldfields & Esperance' 'Far West & North Central NSW'\n",
      " 'Cairns & Far North' 'Wagga Wagga & Riverina' 'Lismore & Far North Coast'\n",
      " 'Alice Springs & Central Australia' 'Dubbo & Central NSW'\n",
      " 'Devonport & North West' 'Launceston & North East'\n",
      " 'Whyalla & Eyre Peninsula' 'Northern QLD' 'Bunbury & South West' 'Hobart'\n",
      " 'Geraldton, Gascoyne & Midwest' 'Katherine & Northern Australia'\n",
      " 'Adelaide Hills & Barossa' 'Riverland & Murray Mallee'\n",
      " 'Horsham & Grampians' 'Rockhampton & Capricorn Coast'\n",
      " 'Shepparton & Goulburn Valley' 'Bairnsdale & Gippsland'\n",
      " 'Mt Gambier & Limestone Coast' 'Blue Mountains & Central West'\n",
      " 'Mildura & Murray' 'Gladstone & Central QLD' 'Somerset & Lockyer'\n",
      " 'Western QLD' 'Albany & Great Southern' 'Broome & Kimberley'\n",
      " 'Bundaberg & Wide Bay Burnett' 'Mandurah & Peel'\n",
      " 'Fleurieu Peninsula & Kangaroo Island' 'Northam & Wheatbelt'\n",
      " 'Tamworth & North West NSW' 'Central & South East TAS'\n",
      " 'Coober Pedy & Outback SA' nan] \n",
      "\n",
      "Unique values in Area column:\n",
      " ['North West & Hills District' nan 'CBD & Inner Suburbs'\n",
      " 'Ryde & Macquarie Park' 'Bayside & South Eastern Suburbs'\n",
      " 'Eastern Suburbs' 'Western Suburbs' 'Parramatta & Western Suburbs'\n",
      " 'Northern Suburbs' 'Western Suburbs & Ipswich'\n",
      " 'CBD, Inner West & Eastern Suburbs' 'South West & M5 Corridor'\n",
      " 'CBD, Inner & Western Suburbs' 'Northern Suburbs & Joondalup'\n",
      " 'Fremantle & Southern Suburbs' 'Southern Suburbs & Sutherland Shire'\n",
      " 'North Shore & Northern Beaches' 'Southern Suburbs & Logan'\n",
      " 'Bayside & Eastern Suburbs' 'Rockingham & Kwinana'] \n",
      "\n",
      "Unique values in Classification column:\n",
      " ['Retail & Consumer Products' 'Call Centre & Customer Service'\n",
      " 'Hospitality & Tourism' 'Banking & Financial Services'\n",
      " 'Manufacturing, Transport & Logistics' 'Sales'\n",
      " 'Administration & Office Support' 'Trades & Services' 'Accounting'\n",
      " 'Real Estate & Property' 'Healthcare & Medical'\n",
      " 'Marketing & Communications' 'Government & Defence'\n",
      " 'Information & Communication Technology' 'Education & Training'\n",
      " 'Community Services & Development' 'Mining, Resources & Energy'\n",
      " 'Human Resources & Recruitment' 'Insurance & Superannuation'\n",
      " 'Engineering' 'CEO & General Management' 'Design & Architecture' 'Legal'\n",
      " 'Construction' 'Sport & Recreation' 'Science & Technology'\n",
      " 'Advertising, Arts & Media' 'Farming, Animals & Conservation'\n",
      " 'Self Employment' 'Consulting & Strategy' nan] \n",
      "\n",
      "Unique values in SubClassification column:\n",
      " ['Retail Assistants' 'Sales - Inbound' 'Customer Service - Call Centre'\n",
      " 'Waiting Staff' 'Sales - Outbound' 'Kitchen & Sandwich Hands'\n",
      " 'Banking - Retail/Branch' 'Customer Service - Customer Facing'\n",
      " 'Bar & Beverage Staff' 'Housekeeping' 'Other' 'Assembly & Process Work'\n",
      " 'Purchasing, Procurement & Inventory' 'Sales Representatives/Consultants'\n",
      " 'Chefs/Cooks' 'Records Management & Document Control'\n",
      " 'Analysis & Reporting' 'Office Management'\n",
      " 'Warehousing, Storage & Distribution' 'Security Services'\n",
      " 'Administrative Assistants' 'Management - Store'\n",
      " 'Contracts Administration' 'Road Transport'\n",
      " 'Front Office & Guest Services' 'PA, EA & Secretarial'\n",
      " 'Team Leaders/Supervisors' 'Cleaning Services'\n",
      " 'Bookkeeping & Small Practice Accounting'\n",
      " 'Commercial Sales, Leasing & Property Mgmt' 'New Business Development'\n",
      " 'Management - Department/Assistant' 'Hair & Beauty Services'\n",
      " 'Residential Leasing & Property Management' 'Administration'\n",
      " 'Bakers & Pastry Chefs' 'Dental' 'Product Management & Development'\n",
      " 'Government - State' 'Account & Relationship Management' 'Management'\n",
      " 'Residential Sales' 'Help Desk & IT Support' 'Automotive Trades'\n",
      " 'Childcare & Outside School Hours Care' 'Pharmacy' 'Sales - Pre & Post'\n",
      " 'Teaching - Vocational' 'Mining - Drill & Blast'\n",
      " 'Management Accounting & Budgeting' 'Workplace Training & Assessment'\n",
      " 'Physiotherapy, OT & Rehabilitation' 'Management - Internal' 'Mortgages'\n",
      " 'Welders & Boilermakers' 'Claims' 'Rail & Maritime Transport'\n",
      " 'Body Corporate & Facilities Management' 'Teaching - Secondary'\n",
      " 'Banking - Business' 'Teaching - Early Childhood'\n",
      " 'Mechanical Engineering' 'Networks & Systems Administration'\n",
      " 'Programme & Project Management' 'General/Business Unit Manager'\n",
      " 'Remuneration & Benefits' 'Business Services & Corporate Advisory'\n",
      " 'Illustration & Animation' 'Government - Federal'\n",
      " 'Maintenance & Handyperson Services' 'Environment & Planning Law'\n",
      " 'Security' 'Financial Accounting & Reporting' 'Electricians'\n",
      " 'Nursing - A&E, Critical Care & ICU' 'Consultants'\n",
      " 'Psychology, Counselling & Social Work' 'Architects'\n",
      " 'Foreperson/Supervisors' 'Compliance & Risk' 'Technicians'\n",
      " 'Audit - External' 'Analysts' 'Teaching - Tertiary' 'Audit - Internal'\n",
      " 'Emergency Services' 'Research & Fellowships' 'Stockbroking & Trading'\n",
      " 'Corporate Finance & Investment Banking' 'Digital & Search Marketing'\n",
      " 'Sales' 'Project Management' 'Contracts Management'\n",
      " 'Financial Managers & Controllers' 'Clinical/Medical Research'\n",
      " 'Business/Systems Analysts' 'Medical Administration'\n",
      " 'Fitness & Personal Training' 'Systems Accounting & IT Audit'\n",
      " 'Gardening & Landscaping' 'Fitters, Turners & Machinists'\n",
      " 'General Practitioners' 'Mining - Operations' 'Nursing - Aged Care'\n",
      " 'Labourers' 'Production, Planning & Scheduling' 'Architecture'\n",
      " 'Developers/Programmers' 'Surveying' 'Teaching - Primary'\n",
      " 'Chemistry & Physics' 'Media Strategy, Planning & Buying'\n",
      " 'Direct Marketing & CRM' 'Financial Planning' 'Marketing Communications'\n",
      " 'Management - Agency' 'Speech Therapy' 'Graphic Design'\n",
      " 'Mining - Engineering & Maintenance' 'Medical Imaging'\n",
      " 'Web Development & Production' 'Plumbers' 'Taxation'\n",
      " 'Occupational Health & Safety' 'Client & Sales Administration'\n",
      " 'Receptionists' 'Engineering - Software'\n",
      " 'Mining - Exploration & Geoscience' 'Payroll' 'Legal Secretaries'\n",
      " 'Architectural Drafting' 'Coaching & Instruction' 'Government - Local'\n",
      " 'Nursing - General Medical & Surgical'\n",
      " 'Natural Therapies & Alternative Medicine' 'Pickers & Packers' 'Credit'\n",
      " 'Civil/Structural Engineering' 'Plant & Machinery Operators'\n",
      " 'Employment Services' 'Building Trades'\n",
      " 'Accounts Receivable/Credit Control' 'Property Law' 'Client Services'\n",
      " 'Marketing Assistants/Coordinators' 'Horticulture'\n",
      " 'Water & Waste Engineering' 'Nursing - Theatre & Recovery'\n",
      " 'Community Development' 'Optical' 'Machine Operators'\n",
      " 'Aged & Disability Support' 'Carpentry & Cabinet Making'\n",
      " 'Recruitment - Agency' 'Accounts Officers/Clerks'\n",
      " 'Couriers, Drivers & Postal Services' 'Locksmiths'\n",
      " 'Market Research & Analysis' 'Air Conditioning & Refrigeration'\n",
      " 'Pharmaceuticals & Medical Devices' 'Maintenance' 'Nursing - Management'\n",
      " 'Assistant Accountants' 'Self Employment' 'Field Engineering'\n",
      " 'Estimating' 'Consulting & Generalist HR' 'Engineering - Network'\n",
      " 'Building Services Engineering' 'Project Engineering'\n",
      " 'Engineering Drafting' 'Industrial Design' 'Planning' 'Tour Guides'\n",
      " 'Accounts Payable' 'Environmental Engineering' 'Butchers'\n",
      " 'Management - Universities' 'Housing & Homelessness Services'\n",
      " 'Legal Practice Management' 'Natural Resources & Water'\n",
      " 'Management - Schools' 'Retail & Property Development' 'Farm Labour'\n",
      " 'Child Welfare, Youth & Family Services' 'Travel Agents/Consultants'\n",
      " 'Interior Design' 'Health, Safety & Environment'\n",
      " 'Corporate & Commercial Law' 'Environmental, Earth & Geosciences'\n",
      " 'Biological & Biomedical Sciences' 'Chemical Engineering'\n",
      " 'Electrical/Electronic Engineering' 'Ambulance/Paramedics' 'Team Leaders'\n",
      " 'Medical Specialists' 'Testing & Quality Assurance'\n",
      " 'Database Development & Administration' 'Tailors & Dressmakers'\n",
      " 'Programming & Production' \"Workers' Compensation\" 'Journalism & Writing'\n",
      " 'Fashion & Textile Design' 'Editing & Publishing' 'Reservations'\n",
      " 'Generalists - In-house' 'Power Generation & Distribution'\n",
      " 'Management - Vocational' 'Strategy & Planning'\n",
      " 'Nursing - Psych, Forensic & Correctional Health'\n",
      " 'Web & Interaction Design' 'Tax Law' 'Aviation Services'\n",
      " 'Oil & Gas - Operations' 'Litigation & Dispute Resolution'\n",
      " 'Brand Management' 'Nursing - Midwifery, Neo-Natal, SCN & NICU'\n",
      " 'Planning & Scheduling' 'Nursing - Community, Maternal & Child Health'\n",
      " 'Telecommunications' 'Company Secretaries' 'Management & Support'\n",
      " 'Generalists - Law Firm' 'Recruitment - Internal' 'Promotions'\n",
      " 'Quality Assurance & Control' 'Farm Management'\n",
      " 'Printing & Publishing Services' 'Funds Management' 'Sales Coordinators'\n",
      " 'Urban Design & Planning' 'Import/Export & Customs' 'Buying'\n",
      " 'Painters & Sign Writers' 'Agency Account Management'\n",
      " 'Management - Area/Multi-site' 'Supervisors/Team Leaders'\n",
      " 'Nursing - Paediatric & PICU' 'Systems Engineering'\n",
      " 'Insurance & Superannuation Law' 'Student Services'\n",
      " 'Library Services & Information Management' 'Law Clerks & Paralegals'\n",
      " 'Collections' 'Pathology' 'Freight/Cargo Forwarding'\n",
      " 'Policy, Planning & Regulation' 'Veterinary Services & Animal Welfare'\n",
      " 'Nursing - High Acuity' 'Construction Law'\n",
      " 'Oil & Gas - Engineering & Maintenance' 'Industrial Engineering'\n",
      " 'Mining - Processing' 'Technical Writing'\n",
      " 'Nursing - Educators & Facilitators'\n",
      " 'Industrial Relations & Employment Law' 'Process Engineering'\n",
      " 'Fishing & Aquaculture' 'Laboratory & Technical Services' 'Policy'\n",
      " 'Training & Development' 'Management & Change Consulting'\n",
      " 'Banking & Finance Law' 'CEO' 'Police & Corrections'\n",
      " 'Indigenous & Multicultural Services' 'Merchandisers'\n",
      " 'Data Entry & Word Processing' 'Gaming' 'Fundraising' 'Event Management'\n",
      " 'Environment & Sustainability Consulting' 'Personal Injury Law'\n",
      " 'Industrial & Employee Relations' 'Residents & Registrars'\n",
      " 'Cost Accounting' 'Dieticians' 'Brokerage' 'Automotive Engineering'\n",
      " 'Landscape Architecture' 'Volunteer Coordination & Support'\n",
      " 'Oil & Gas - Production & Refinement'\n",
      " 'Banking - Corporate & Institutional' 'Performing Arts' 'Family Law'\n",
      " 'Nannies & Babysitters' 'Teaching Aides & Special Needs'\n",
      " 'Conservation, Parks & Wildlife' 'Oil & Gas - Drilling' 'Tutoring'\n",
      " 'Settlements' 'Risk Consulting' 'Environmental Services'\n",
      " 'Mathematics, Statistics & Information Sciences' 'Underwriting'\n",
      " 'Airlines' 'Insolvency & Corporate Recovery' 'Agronomy & Farm Services'\n",
      " 'Engineering - Hardware' 'Winery & Viticulture'\n",
      " 'Public Relations & Corporate Affairs' 'Fleet Management'\n",
      " 'Superannuation' 'Photography' 'Computer Operators'\n",
      " 'Public Transport & Taxi Services' 'Assessment' 'Internal Communications'\n",
      " 'Criminal & Civil Law' 'Trade Marketing' 'Organisational Development'\n",
      " 'Aerospace Engineering' 'Food Technology & Safety'\n",
      " 'Intellectual Property Law' 'Biotechnology & Genetics' 'Art Direction'\n",
      " 'Chiropractic & Osteopathic' 'Pattern Makers & Garment Technicians'\n",
      " 'Materials Handling Engineering' 'Oil & Gas - Exploration & Geoscience'\n",
      " 'Local Government' 'Air Force' 'Inventory & Fixed Assets' 'Treasury'\n",
      " 'Government' 'Supervisors' 'Valuation' 'Materials Sciences' 'Navy'\n",
      " 'Corporate Development' 'Forensic Accounting & Investigation' 'Actuarial'\n",
      " 'Board Appointments' 'COO & MD' 'Modelling & Simulation' 'Floristry'\n",
      " 'Fund Administration' 'Army' nan] \n",
      "\n",
      "Unique values in LowestSalary column:\n",
      " [  0  30  40  50  60  70  80 100 120 150 200] \n",
      "\n",
      "Unique values in HighestSalary column:\n",
      " [ 30  40  50  60  70  80 100 120 150 200 999] \n",
      "\n",
      "Unique values in JobType column:\n",
      " [nan 'Full Time' 'Contract/Temp' 'Part Time' 'Casual/Vacation'] \n",
      "\n"
     ]
    }
   ],
   "source": [
    "#No need to print these are they are all unique and provide no useful information\n",
    "exclude = ['Id', 'Requirement', 'FullDescription']\n",
    "for column in df:\n",
    "    if column not in exclude:\n",
    "        print(\"Unique values in\", column, \"column:\\n\", df[column].unique(), \"\\n\")"
   ]
  },
  {
   "cell_type": "code",
   "execution_count": 22,
   "metadata": {},
   "outputs": [
    {
     "name": "stdout",
     "output_type": "stream",
     "text": [
      "Value counts for Title column:\n",
      " Project Manager                                                               1298\n",
      "Business Analyst                                                               830\n",
      "Business Development Manager                                                   817\n",
      "Administration Assistant                                                       725\n",
      "Executive Assistant                                                            660\n",
      "                                                                              ... \n",
      "P/T General Practitioner (VR) - 73% of billings or $150/h - Fairfield Area       1\n",
      "Site Manager - United/Pie Face (ALL VIC)                                         1\n",
      "Safety Leader – Pacific Zone                                                     1\n",
      "Market Advocacy Development Manager Australian Market                            1\n",
      "Head of Operations - EOI                                                         1\n",
      "Name: Title, Length: 168065, dtype: int64 \n",
      "\n",
      "Value counts for Company column:\n",
      " Jora Local                          9354\n",
      "Hudson                              1668\n",
      "Design & Build                      1547\n",
      "Robert Walters                      1385\n",
      "Paxus                               1325\n",
      "                                    ... \n",
      "Steel Design Fabrication Pty Ltd       1\n",
      "IBIT Solutions                         1\n",
      "ALBANY CITY MOTORS                     1\n",
      "Pegasus Management Pty Ltd             1\n",
      "Immanuel Lutheran College              1\n",
      "Name: Company, Length: 40628, dtype: int64 \n",
      "\n",
      "Value counts for Date column:\n",
      " 2018-10-17T00:00:00.000Z    13059\n",
      "2018-12-14T00:00:00.000Z    11505\n",
      "2019-01-22T00:00:00.000Z     9544\n",
      "2019-01-10T00:00:00.000Z     8736\n",
      "2018-10-31T00:00:00.000Z     8641\n",
      "                            ...  \n",
      "2019-03-03T00:00:00.000Z        3\n",
      "2018-11-14T00:00:00.000Z        2\n",
      "2019-01-25T00:00:00.000Z        2\n",
      "2019-03-10T00:00:00.000Z        2\n",
      "2019-03-09T00:00:00.000Z        1\n",
      "Name: Date, Length: 163, dtype: int64 \n",
      "\n",
      "Value counts for Location column:\n",
      " Sydney                                  60765\n",
      "Melbourne                               46690\n",
      "Brisbane                                21466\n",
      "Perth                                   13198\n",
      "Adelaide                                 6653\n",
      "                                        ...  \n",
      "Yorke Peninsula & Clare Valley             96\n",
      "Tumut, Snowy & Monaro                      86\n",
      "Somerset & Lockyer                         65\n",
      "Fleurieu Peninsula & Kangaroo Island       64\n",
      "Central & South East TAS                   57\n",
      "Name: Location, Length: 65, dtype: int64 \n",
      "\n",
      "Value counts for Area column:\n",
      " CBD & Inner Suburbs                    32170\n",
      "CBD, Inner West & Eastern Suburbs      29059\n",
      "Parramatta & Western Suburbs            8769\n",
      "Bayside & South Eastern Suburbs         6707\n",
      "North Shore & Northern Beaches          6656\n",
      "Northern Suburbs                        6436\n",
      "Eastern Suburbs                         6361\n",
      "CBD, Inner & Western Suburbs            5570\n",
      "Western Suburbs                         4285\n",
      "South West & M5 Corridor                3190\n",
      "Southern Suburbs & Sutherland Shire     2239\n",
      "Southern Suburbs & Logan                2137\n",
      "Ryde & Macquarie Park                   1960\n",
      "North West & Hills District             1905\n",
      "Fremantle & Southern Suburbs            1804\n",
      "Northern Suburbs & Joondalup            1199\n",
      "Western Suburbs & Ipswich               1190\n",
      "Bayside & Eastern Suburbs                657\n",
      "Rockingham & Kwinana                     364\n",
      "Name: Area, dtype: int64 \n",
      "\n",
      "Value counts for Classification column:\n",
      " Information & Communication Technology    22796\n",
      "Trades & Services                         17976\n",
      "Healthcare & Medical                      17085\n",
      "Hospitality & Tourism                     15523\n",
      "Manufacturing, Transport & Logistics      12376\n",
      "Administration & Office Support           10020\n",
      "Accounting                                 9368\n",
      "Education & Training                       9280\n",
      "Construction                               8372\n",
      "Sales                                      8119\n",
      "Retail & Consumer Products                 8041\n",
      "Government & Defence                       7443\n",
      "Engineering                                6458\n",
      "Mining, Resources & Energy                 6288\n",
      "Banking & Financial Services               4633\n",
      "Community Services & Development           4485\n",
      "Legal                                      4237\n",
      "Human Resources & Recruitment              4144\n",
      "Call Centre & Customer Service             3971\n",
      "Marketing & Communications                 3968\n",
      "Real Estate & Property                     3614\n",
      "Design & Architecture                      1811\n",
      "Insurance & Superannuation                 1474\n",
      "Consulting & Strategy                      1206\n",
      "Sport & Recreation                          984\n",
      "Science & Technology                        905\n",
      "Farming, Animals & Conservation             882\n",
      "CEO & General Management                    844\n",
      "Advertising, Arts & Media                   833\n",
      "Self Employment                              93\n",
      "Name: Classification, dtype: int64 \n",
      "\n",
      "Value counts for SubClassification column:\n",
      " Other                         11349\n",
      "Management                     6236\n",
      "Chefs/Cooks                    4600\n",
      "Administrative Assistants      4572\n",
      "Developers/Programmers         4211\n",
      "                              ...  \n",
      "Illustration & Animation         14\n",
      "Computer Operators               13\n",
      "Air Force                        12\n",
      "Chiropractic & Osteopathic       11\n",
      "Army                              5\n",
      "Name: SubClassification, Length: 338, dtype: int64 \n",
      "\n",
      "Value counts for LowestSalary column:\n",
      " 0      62639\n",
      "40     34436\n",
      "70     28712\n",
      "60     28499\n",
      "100    27673\n",
      "50     27027\n",
      "150    25841\n",
      "120    24514\n",
      "80     24249\n",
      "30     23476\n",
      "200    11411\n",
      "Name: LowestSalary, dtype: int64 \n",
      "\n",
      "Value counts for HighestSalary column:\n",
      " 30     62639\n",
      "50     34436\n",
      "80     28712\n",
      "70     28499\n",
      "120    27673\n",
      "60     27027\n",
      "200    25841\n",
      "150    24514\n",
      "100    24249\n",
      "40     23476\n",
      "999    11411\n",
      "Name: HighestSalary, dtype: int64 \n",
      "\n",
      "Value counts for JobType column:\n",
      " Full Time          201225\n",
      "Contract/Temp       53906\n",
      "Casual/Vacation     25355\n",
      "Part Time           21893\n",
      "Name: JobType, dtype: int64 \n",
      "\n"
     ]
    }
   ],
   "source": [
    "for column in df:\n",
    "    if column not in exclude:\n",
    "        print(\"Value counts for\", column, \"column:\\n\", df[column].value_counts(), \"\\n\")"
   ]
  },
  {
   "cell_type": "code",
   "execution_count": 23,
   "metadata": {},
   "outputs": [
    {
     "name": "stdout",
     "output_type": "stream",
     "text": [
      "Number of locations with all NaN values in Area column: 65\n",
      "Number of locations with all non NaN values in Area column: 4\n",
      "Locations with all non NaN values in Area column: ['Sydney' 'Brisbane' 'Melbourne' 'Perth']\n"
     ]
    }
   ],
   "source": [
    "# find how many locations have all NaN values in Area column\n",
    "df[df['Area'].isnull()]['Location'].nunique()\n",
    "print(\"Number of locations with all NaN values in Area column:\", df[df['Area'].isnull()]['Location'].nunique())\n",
    "# find how many locations have all non NaN values in Area column and print them\n",
    "areaLocations = df[df['Area'].notnull()]['Location'].nunique()\n",
    "print(\"Number of locations with all non NaN values in Area column:\", areaLocations)\n",
    "print(\"Locations with all non NaN values in Area column:\", df[df['Area'].notnull()]['Location'].unique())\n"
   ]
  },
  {
   "attachments": {},
   "cell_type": "markdown",
   "metadata": {},
   "source": [
    "Only the four largest cities have Area data included in their job postings."
   ]
  },
  {
   "cell_type": "code",
   "execution_count": 24,
   "metadata": {},
   "outputs": [
    {
     "name": "stdout",
     "output_type": "stream",
     "text": [
      "['Help Desk & IT Support' 'Sales - Pre & Post'\n",
      " 'Networks & Systems Administration' 'Programme & Project Management'\n",
      " 'Security' 'Consultants' 'Architects' 'Other' 'Business/Systems Analysts'\n",
      " 'Developers/Programmers' 'Web Development & Production'\n",
      " 'Engineering - Software' 'Product Management & Development'\n",
      " 'Engineering - Network' 'Team Leaders' 'Testing & Quality Assurance'\n",
      " 'Management' 'Database Development & Administration' 'Telecommunications'\n",
      " 'Technical Writing' 'Engineering - Hardware' 'Computer Operators']\n"
     ]
    }
   ],
   "source": [
    "#display all subclassifications in IT\n",
    "print(df[df['Classification'] == 'Information & Communication Technology']['SubClassification'].unique())"
   ]
  },
  {
   "cell_type": "code",
   "execution_count": 25,
   "metadata": {},
   "outputs": [
    {
     "name": "stdout",
     "output_type": "stream",
     "text": [
      "Developers/Programmers            4211\n",
      "Business/Systems Analysts         2986\n",
      "Programme & Project Management    2413\n",
      "Name: SubClassification, dtype: int64\n"
     ]
    }
   ],
   "source": [
    "# Find market share of each Classification over time\n",
    "# Create a new dataframe with the date and classification columns\n",
    "MarketShare = df[['Date', 'Classification']].copy()\n",
    "\n",
    "#create new df with Developers/Programmers, Business/System Analysts and Programme & Project Management\n",
    "df3 = df[df['Classification'] == 'Information & Communication Technology']['SubClassification'].value_counts().nlargest(3)\n",
    "# print mean salary of top 3 subclassifications in IT\n",
    "\n",
    "#print top 3 subclassifications in IT\n",
    "print(df[df['Classification'] == 'Information & Communication Technology']['SubClassification'].value_counts().nlargest(3))\n"
   ]
  },
  {
   "cell_type": "code",
   "execution_count": 26,
   "metadata": {},
   "outputs": [
    {
     "name": "stdout",
     "output_type": "stream",
     "text": [
      "Other                        11349\n",
      "Management                    6236\n",
      "Chefs/Cooks                   4600\n",
      "Administrative Assistants     4572\n",
      "Developers/Programmers        4211\n",
      "Name: SubClassification, dtype: int64\n"
     ]
    }
   ],
   "source": [
    "#find the largest SubClassification in the data set\n",
    "print(df['SubClassification'].value_counts().nlargest(5))\n"
   ]
  },
  {
   "attachments": {},
   "cell_type": "markdown",
   "metadata": {},
   "source": [
    "### Job Classification Visualisations"
   ]
  },
  {
   "cell_type": "code",
   "execution_count": 27,
   "metadata": {},
   "outputs": [
    {
     "data": {
      "image/png": "[encoded data removed]",
      "text/plain": [
       "<Figure size 700x700 with 1 Axes>"
      ]
     },
     "metadata": {},
     "output_type": "display_data"
    }
   ],
   "source": [
    "def split_label(label, max_length):\n",
    "    words = label.split(' ')\n",
    "    lines = []\n",
    "    current_line = ''\n",
    "    for word in words:\n",
    "        if len(current_line + ' ' + word) <= max_length:\n",
    "            current_line += ' ' + word\n",
    "        else:\n",
    "            lines.append(current_line)\n",
    "            current_line = word\n",
    "    lines.append(current_line)  # Don't forget the last line\n",
    "    return '\\n'.join(lines)\n",
    "    \n",
    "# Calculate the percentage of each classification\n",
    "classification_counts = df['Classification'].value_counts()\n",
    "classification_percentages = classification_counts / classification_counts.sum()\n",
    "\n",
    "# Calculate the percentage of each Location\n",
    "location_counts = df['Location'].value_counts()\n",
    "location_percentages = location_counts / location_counts.sum()\n",
    "colors = sns.color_palette(\"hls\")\n",
    "\n",
    "# Set the threshold for lumping small classifications\n",
    "threshold = 0.01  # Set the threshold to 1% (0.01)\n",
    "threshold2 = 0.008  # Set the threshold to 0.5% (0.008)\n",
    "\n",
    "# Convert the classification percentages to a DataFrame\n",
    "classification_percentages_df = pd.DataFrame(classification_percentages)\n",
    "location_percentages_df = pd.DataFrame(location_percentages)\n",
    "\n",
    "# Create a new column 'ClassificationLumped' based on the threshold\n",
    "df['ClassificationLumped'] = df['Classification'].copy()\n",
    "df.loc[df['Classification'].isin(classification_percentages_df[classification_percentages_df['Classification'] < threshold].index), 'ClassificationLumped'] = 'Other'\n",
    "# Create a new column 'LocationLumped' based on the threshold\n",
    "df['LocationLumped'] = df['Location'].copy()\n",
    "df.loc[df['Location'].isin(location_percentages_df[location_percentages_df['Location'] < threshold2].index), 'LocationLumped'] = 'Other'\n",
    "\n",
    "# Plot the pie chart\n",
    "plt.figure(figsize=(7, 7))\n",
    "df['ClassificationLumped'].value_counts().plot(kind='pie', autopct='%1.1f%%', colors=colors)\n",
    "plt.title('Sectors by Total Market Share', fontsize=20)\n",
    "plt.ylabel('')\n",
    "plt.show()\n",
    "\n"
   ]
  },
  {
   "attachments": {},
   "cell_type": "markdown",
   "metadata": {},
   "source": [
    "## Data Preprocessing"
   ]
  },
  {
   "attachments": {},
   "cell_type": "markdown",
   "metadata": {},
   "source": [
    "### Normalise Formats\n"
   ]
  },
  {
   "attachments": {},
   "cell_type": "markdown",
   "metadata": {},
   "source": [
    "##### Normalise Date"
   ]
  },
  {
   "cell_type": "code",
   "execution_count": 28,
   "metadata": {},
   "outputs": [
    {
     "data": {
      "text/plain": [
       "Id                      object\n",
       "Title                   object\n",
       "Company                 object\n",
       "Date                    object\n",
       "Location                object\n",
       "Area                    object\n",
       "Classification          object\n",
       "SubClassification       object\n",
       "Requirement             object\n",
       "FullDescription         object\n",
       "LowestSalary             int64\n",
       "HighestSalary            int64\n",
       "JobType                 object\n",
       "ClassificationLumped    object\n",
       "LocationLumped          object\n",
       "dtype: object"
      ]
     },
     "execution_count": 28,
     "metadata": {},
     "output_type": "execute_result"
    }
   ],
   "source": [
    "#explore data types in Date column\n",
    "df.dtypes"
   ]
  },
  {
   "cell_type": "code",
   "execution_count": 29,
   "metadata": {},
   "outputs": [
    {
     "data": {
      "text/plain": [
       "Id                                   object\n",
       "Title                                object\n",
       "Company                              object\n",
       "Date                    datetime64[ns, UTC]\n",
       "Location                             object\n",
       "Area                                 object\n",
       "Classification                       object\n",
       "SubClassification                    object\n",
       "Requirement                          object\n",
       "FullDescription                      object\n",
       "LowestSalary                          int64\n",
       "HighestSalary                         int64\n",
       "JobType                              object\n",
       "ClassificationLumped                 object\n",
       "LocationLumped                       object\n",
       "dtype: object"
      ]
     },
     "execution_count": 29,
     "metadata": {},
     "output_type": "execute_result"
    },
    {
     "data": {
      "image/png": "[encoded data removed]",
      "text/plain": [
       "<Figure size 640x480 with 1 Axes>"
      ]
     },
     "metadata": {},
     "output_type": "display_data"
    }
   ],
   "source": [
    "#normalise the data in Date column\n",
    "df[\"Date\"] = pd.to_datetime(df[\"Date\"])\n",
    "#visualise Date column in plot\n",
    "df['Date'].plot()\n",
    "df.dtypes\n"
   ]
  },
  {
   "attachments": {},
   "cell_type": "markdown",
   "metadata": {},
   "source": [
    "##### Normalise Id"
   ]
  },
  {
   "attachments": {},
   "cell_type": "markdown",
   "metadata": {},
   "source": [
    "* Was unable to normalise Id column straight away due to various datatypes being contained within the column"
   ]
  },
  {
   "cell_type": "code",
   "execution_count": 30,
   "metadata": {},
   "outputs": [
    {
     "name": "stdout",
     "output_type": "stream",
     "text": [
      "187405\n",
      "318477\n"
     ]
    }
   ],
   "source": [
    "#check Id column for non integer values\n",
    "print(df['Id'].apply(lambda x: isinstance(x, int)).sum())\n",
    "print(len(df['Id']))"
   ]
  },
  {
   "cell_type": "code",
   "execution_count": 31,
   "metadata": {},
   "outputs": [
    {
     "name": "stdout",
     "output_type": "stream",
     "text": [
      "187405    37922161&searchrequesttoken=2a17e27a-d532-470c...\n",
      "187406    37922151&searchrequesttoken=2a17e27a-d532-470c...\n",
      "187407    37922143&searchrequesttoken=2a17e27a-d532-470c...\n",
      "187408    37922140&searchrequesttoken=16638339-1741-4903...\n",
      "187409    37922135&searchrequesttoken=16638339-1741-4903...\n",
      "187410    37922127&searchrequesttoken=16638339-1741-4903...\n",
      "187411    37922104&searchrequesttoken=16638339-1741-4903...\n",
      "187412    37922099&searchrequesttoken=16638339-1741-4903...\n",
      "187413    37922085&searchrequesttoken=16638339-1741-4903...\n",
      "187414    37922055&searchrequesttoken=16638339-1741-4903...\n",
      "Name: Id, dtype: object\n"
     ]
    }
   ],
   "source": [
    "#Check where invalid entries were found\n",
    "print(df['Id'][187405:].head(10))"
   ]
  },
  {
   "attachments": {},
   "cell_type": "markdown",
   "metadata": {},
   "source": [
    "Many invalid Id entries found. When tried to normalise to a int64 perviously, this is why."
   ]
  },
  {
   "cell_type": "code",
   "execution_count": 32,
   "metadata": {},
   "outputs": [],
   "source": [
    "#remove the remaining non integer values from each Id column once detected\n",
    "df['Id'] = df['Id'].apply(lambda x: int(str(x).split('&')[0]))"
   ]
  },
  {
   "cell_type": "code",
   "execution_count": 33,
   "metadata": {},
   "outputs": [
    {
     "name": "stdout",
     "output_type": "stream",
     "text": [
      "318477\n",
      "318477\n"
     ]
    }
   ],
   "source": [
    "#check Id column for non integer values\n",
    "print(df['Id'].apply(lambda x: isinstance(x, int)).sum())\n",
    "print(len(df['Id']))"
   ]
  },
  {
   "cell_type": "code",
   "execution_count": 34,
   "metadata": {},
   "outputs": [
    {
     "name": "stdout",
     "output_type": "stream",
     "text": [
      "187405    37922161\n",
      "187406    37922151\n",
      "187407    37922143\n",
      "187408    37922140\n",
      "187409    37922135\n",
      "187410    37922127\n",
      "187411    37922104\n",
      "187412    37922099\n",
      "187413    37922085\n",
      "187414    37922055\n",
      "Name: Id, dtype: int64\n"
     ]
    }
   ],
   "source": [
    "#Check where invalid entries were found\n",
    "print(df['Id'][187405:].head(10))"
   ]
  },
  {
   "cell_type": "code",
   "execution_count": 35,
   "metadata": {},
   "outputs": [
    {
     "data": {
      "text/plain": [
       "Id                                    int64\n",
       "Title                                object\n",
       "Company                              object\n",
       "Date                    datetime64[ns, UTC]\n",
       "Location                             object\n",
       "Area                                 object\n",
       "Classification                       object\n",
       "SubClassification                    object\n",
       "Requirement                          object\n",
       "FullDescription                      object\n",
       "LowestSalary                          int64\n",
       "HighestSalary                         int64\n",
       "JobType                              object\n",
       "ClassificationLumped                 object\n",
       "LocationLumped                       object\n",
       "dtype: object"
      ]
     },
     "execution_count": 35,
     "metadata": {},
     "output_type": "execute_result"
    }
   ],
   "source": [
    "df[\"Id\"] = df[\"Id\"].astype(np.int64)\n",
    "df.dtypes\n"
   ]
  },
  {
   "cell_type": "code",
   "execution_count": 36,
   "metadata": {},
   "outputs": [
    {
     "name": "stdout",
     "output_type": "stream",
     "text": [
      "Id column duplicates:  14165\n"
     ]
    }
   ],
   "source": [
    "#check for duplicate Id values\n",
    "print(\"Id column duplicates: \", df['Id'].duplicated().sum())\n"
   ]
  },
  {
   "attachments": {},
   "cell_type": "markdown",
   "metadata": {},
   "source": [
    "### Handle Missing Data\n"
   ]
  },
  {
   "cell_type": "code",
   "execution_count": 37,
   "metadata": {},
   "outputs": [
    {
     "name": "stdout",
     "output_type": "stream",
     "text": [
      "Before:\n",
      "\n",
      "<class 'pandas.core.frame.DataFrame'>\n",
      "RangeIndex: 318477 entries, 0 to 318476\n",
      "Data columns (total 15 columns):\n",
      " #   Column                Non-Null Count   Dtype              \n",
      "---  ------                --------------   -----              \n",
      " 0   Id                    318477 non-null  int64              \n",
      " 1   Title                 318477 non-null  object             \n",
      " 2   Company               306473 non-null  object             \n",
      " 3   Date                  318477 non-null  datetime64[ns, UTC]\n",
      " 4   Location              197229 non-null  object             \n",
      " 5   Area                  122658 non-null  object             \n",
      " 6   Classification        197229 non-null  object             \n",
      " 7   SubClassification     197229 non-null  object             \n",
      " 8   Requirement           318470 non-null  object             \n",
      " 9   FullDescription       302302 non-null  object             \n",
      " 10  LowestSalary          318477 non-null  int64              \n",
      " 11  HighestSalary         318477 non-null  int64              \n",
      " 12  JobType               302379 non-null  object             \n",
      " 13  ClassificationLumped  197229 non-null  object             \n",
      " 14  LocationLumped        197229 non-null  object             \n",
      "dtypes: datetime64[ns, UTC](1), int64(3), object(11)\n",
      "memory usage: 36.4+ MB\n"
     ]
    }
   ],
   "source": [
    "print(\"Before:\\n\")\n",
    "df.info()"
   ]
  },
  {
   "cell_type": "code",
   "execution_count": 38,
   "metadata": {},
   "outputs": [
    {
     "name": "stdout",
     "output_type": "stream",
     "text": [
      "\n",
      "After:\n",
      "\n",
      "<class 'pandas.core.frame.DataFrame'>\n",
      "RangeIndex: 318477 entries, 0 to 318476\n",
      "Data columns (total 15 columns):\n",
      " #   Column                Non-Null Count   Dtype              \n",
      "---  ------                --------------   -----              \n",
      " 0   Id                    318477 non-null  int64              \n",
      " 1   Title                 318477 non-null  object             \n",
      " 2   Company               306473 non-null  object             \n",
      " 3   Date                  318477 non-null  datetime64[ns, UTC]\n",
      " 4   Location              197229 non-null  object             \n",
      " 5   Area                  122658 non-null  object             \n",
      " 6   Classification        197229 non-null  object             \n",
      " 7   SubClassification     197229 non-null  object             \n",
      " 8   Requirement           318470 non-null  object             \n",
      " 9   FullDescription       302302 non-null  object             \n",
      " 10  LowestSalary          318477 non-null  int64              \n",
      " 11  HighestSalary         318477 non-null  int64              \n",
      " 12  JobType               302379 non-null  object             \n",
      " 13  ClassificationLumped  197229 non-null  object             \n",
      " 14  LocationLumped        197229 non-null  object             \n",
      "dtypes: datetime64[ns, UTC](1), int64(3), object(11)\n",
      "memory usage: 36.4+ MB\n"
     ]
    }
   ],
   "source": [
    "\n",
    "# drop all rows with NaN values in every column\n",
    "df.dropna(how='all', inplace=True)\n",
    "print(\"\\nAfter:\\n\")\n",
    "df.info()"
   ]
  },
  {
   "attachments": {},
   "cell_type": "markdown",
   "metadata": {},
   "source": [
    "Was found that no NaN rows exist"
   ]
  },
  {
   "attachments": {},
   "cell_type": "markdown",
   "metadata": {},
   "source": [
    "### Remove Duplicates"
   ]
  },
  {
   "cell_type": "code",
   "execution_count": 39,
   "metadata": {},
   "outputs": [
    {
     "name": "stdout",
     "output_type": "stream",
     "text": [
      "Dataframe duplicates:  108 \n",
      "\n",
      "Id  column duplicates:  14165\n",
      "Title  column duplicates:  150412\n",
      "Company  column duplicates:  277848\n",
      "Date  column duplicates:  318314\n",
      "Location  column duplicates:  318411\n",
      "Area  column duplicates:  318457\n",
      "Classification  column duplicates:  318446\n",
      "SubClassification  column duplicates:  318138\n",
      "Requirement  column duplicates:  84189\n",
      "FullDescription  column duplicates:  67575\n",
      "LowestSalary  column duplicates:  318466\n",
      "HighestSalary  column duplicates:  318466\n",
      "JobType  column duplicates:  318472\n",
      "ClassificationLumped  column duplicates:  318454\n",
      "LocationLumped  column duplicates:  318463\n"
     ]
    }
   ],
   "source": [
    "#check for duplicates in df dataframe\n",
    "print(\"Dataframe duplicates: \", df.duplicated().sum(), \"\\n\")\n",
    "for row in df:\n",
    "    print(row, \" column duplicates: \", df[row].duplicated().sum())\n"
   ]
  },
  {
   "attachments": {},
   "cell_type": "markdown",
   "metadata": {},
   "source": [
    "* Dataset row duplicates found \n",
    "* Duplicates found in Id column which should be removed"
   ]
  },
  {
   "cell_type": "code",
   "execution_count": 40,
   "metadata": {},
   "outputs": [
    {
     "name": "stdout",
     "output_type": "stream",
     "text": [
      "Id column duplicates:  0\n"
     ]
    }
   ],
   "source": [
    "#Remove duplicates from Id column\n",
    "df.drop_duplicates(subset=['Id'], inplace=True)\n",
    "#check for duplicate Id values\n",
    "print(\"Id column duplicates: \", df['Id'].duplicated().sum())"
   ]
  },
  {
   "cell_type": "code",
   "execution_count": 41,
   "metadata": {},
   "outputs": [
    {
     "name": "stdout",
     "output_type": "stream",
     "text": [
      "Dataframe duplicates:  0 \n",
      "\n",
      "Id  column duplicates:  0\n",
      "Title  column duplicates:  136320\n",
      "Company  column duplicates:  263685\n",
      "Date  column duplicates:  304149\n",
      "Location  column duplicates:  304246\n",
      "Area  column duplicates:  304292\n",
      "Classification  column duplicates:  304281\n",
      "SubClassification  column duplicates:  303973\n",
      "Requirement  column duplicates:  70102\n",
      "FullDescription  column duplicates:  56312\n",
      "LowestSalary  column duplicates:  304301\n",
      "HighestSalary  column duplicates:  304301\n",
      "JobType  column duplicates:  304307\n",
      "ClassificationLumped  column duplicates:  304289\n",
      "LocationLumped  column duplicates:  304298\n"
     ]
    }
   ],
   "source": [
    "#check for duplicates in df dataframe\n",
    "print(\"Dataframe duplicates: \", df.duplicated().sum(), \"\\n\")\n",
    "for row in df:\n",
    "    print(row, \" column duplicates: \", df[row].duplicated().sum())\n"
   ]
  },
  {
   "attachments": {},
   "cell_type": "markdown",
   "metadata": {},
   "source": [
    "### Remove Redundant Columns\n"
   ]
  },
  {
   "attachments": {},
   "cell_type": "markdown",
   "metadata": {},
   "source": [
    "After reviewing the requirements of the assignment, it was decided that the following columns were of no use:\n",
    "* Id\n",
    "* Title\n",
    "* Company\n",
    "* Job Type\n",
    "\n",
    "They were necessary for the previous steps, but going forward they will be removed."
   ]
  },
  {
   "cell_type": "code",
   "execution_count": 42,
   "metadata": {},
   "outputs": [
    {
     "data": {
      "text/html": [
       "<div>\n",
       "<style scoped>\n",
       "    .dataframe tbody tr th:only-of-type {\n",
       "        vertical-align: middle;\n",
       "    }\n",
       "\n",
       "    .dataframe tbody tr th {\n",
       "        vertical-align: top;\n",
       "    }\n",
       "\n",
       "    .dataframe thead th {\n",
       "        text-align: right;\n",
       "    }\n",
       "</style>\n",
       "<table border=\"1\" class=\"dataframe\">\n",
       "  <thead>\n",
       "    <tr style=\"text-align: right;\">\n",
       "      <th></th>\n",
       "      <th>Date</th>\n",
       "      <th>Location</th>\n",
       "      <th>Area</th>\n",
       "      <th>Classification</th>\n",
       "      <th>SubClassification</th>\n",
       "      <th>Requirement</th>\n",
       "      <th>FullDescription</th>\n",
       "      <th>LowestSalary</th>\n",
       "      <th>HighestSalary</th>\n",
       "      <th>ClassificationLumped</th>\n",
       "      <th>LocationLumped</th>\n",
       "    </tr>\n",
       "  </thead>\n",
       "  <tbody>\n",
       "    <tr>\n",
       "      <th>0</th>\n",
       "      <td>2018-10-07 00:00:00+00:00</td>\n",
       "      <td>Sydney</td>\n",
       "      <td>North West &amp; Hills District</td>\n",
       "      <td>Retail &amp; Consumer Products</td>\n",
       "      <td>Retail Assistants</td>\n",
       "      <td>Our Casual Stock Replenishers pride themselves...</td>\n",
       "      <td>NaN</td>\n",
       "      <td>0</td>\n",
       "      <td>30</td>\n",
       "      <td>Retail &amp; Consumer Products</td>\n",
       "      <td>Sydney</td>\n",
       "    </tr>\n",
       "    <tr>\n",
       "      <th>1</th>\n",
       "      <td>2018-10-07 00:00:00+00:00</td>\n",
       "      <td>Richmond &amp; Hawkesbury</td>\n",
       "      <td>NaN</td>\n",
       "      <td>Retail &amp; Consumer Products</td>\n",
       "      <td>Retail Assistants</td>\n",
       "      <td>Our Casual Stock Replenishers pride themselves...</td>\n",
       "      <td>NaN</td>\n",
       "      <td>0</td>\n",
       "      <td>30</td>\n",
       "      <td>Retail &amp; Consumer Products</td>\n",
       "      <td>Other</td>\n",
       "    </tr>\n",
       "    <tr>\n",
       "      <th>2</th>\n",
       "      <td>2018-10-07 00:00:00+00:00</td>\n",
       "      <td>Brisbane</td>\n",
       "      <td>CBD &amp; Inner Suburbs</td>\n",
       "      <td>Retail &amp; Consumer Products</td>\n",
       "      <td>Retail Assistants</td>\n",
       "      <td>BRAND NEW FLAGSHIP STORE OPENING - SUNSHINE PLAZA</td>\n",
       "      <td>NaN</td>\n",
       "      <td>0</td>\n",
       "      <td>30</td>\n",
       "      <td>Retail &amp; Consumer Products</td>\n",
       "      <td>Brisbane</td>\n",
       "    </tr>\n",
       "    <tr>\n",
       "      <th>3</th>\n",
       "      <td>2018-10-07 00:00:00+00:00</td>\n",
       "      <td>Gosford &amp; Central Coast</td>\n",
       "      <td>NaN</td>\n",
       "      <td>Retail &amp; Consumer Products</td>\n",
       "      <td>Retail Assistants</td>\n",
       "      <td>Bring it on - do you love the great outdoors a...</td>\n",
       "      <td>NaN</td>\n",
       "      <td>0</td>\n",
       "      <td>30</td>\n",
       "      <td>Retail &amp; Consumer Products</td>\n",
       "      <td>Other</td>\n",
       "    </tr>\n",
       "    <tr>\n",
       "      <th>4</th>\n",
       "      <td>2018-10-07 00:00:00+00:00</td>\n",
       "      <td>Sydney</td>\n",
       "      <td>Ryde &amp; Macquarie Park</td>\n",
       "      <td>Call Centre &amp; Customer Service</td>\n",
       "      <td>Sales - Inbound</td>\n",
       "      <td>We are seeking highly articulate, enthusiastic...</td>\n",
       "      <td>NaN</td>\n",
       "      <td>0</td>\n",
       "      <td>30</td>\n",
       "      <td>Call Centre &amp; Customer Service</td>\n",
       "      <td>Sydney</td>\n",
       "    </tr>\n",
       "  </tbody>\n",
       "</table>\n",
       "</div>"
      ],
      "text/plain": [
       "                       Date                 Location  \\\n",
       "0 2018-10-07 00:00:00+00:00                   Sydney   \n",
       "1 2018-10-07 00:00:00+00:00    Richmond & Hawkesbury   \n",
       "2 2018-10-07 00:00:00+00:00                 Brisbane   \n",
       "3 2018-10-07 00:00:00+00:00  Gosford & Central Coast   \n",
       "4 2018-10-07 00:00:00+00:00                   Sydney   \n",
       "\n",
       "                          Area                  Classification  \\\n",
       "0  North West & Hills District      Retail & Consumer Products   \n",
       "1                          NaN      Retail & Consumer Products   \n",
       "2          CBD & Inner Suburbs      Retail & Consumer Products   \n",
       "3                          NaN      Retail & Consumer Products   \n",
       "4        Ryde & Macquarie Park  Call Centre & Customer Service   \n",
       "\n",
       "   SubClassification                                        Requirement  \\\n",
       "0  Retail Assistants  Our Casual Stock Replenishers pride themselves...   \n",
       "1  Retail Assistants  Our Casual Stock Replenishers pride themselves...   \n",
       "2  Retail Assistants  BRAND NEW FLAGSHIP STORE OPENING - SUNSHINE PLAZA   \n",
       "3  Retail Assistants  Bring it on - do you love the great outdoors a...   \n",
       "4    Sales - Inbound  We are seeking highly articulate, enthusiastic...   \n",
       "\n",
       "  FullDescription  LowestSalary  HighestSalary  \\\n",
       "0             NaN             0             30   \n",
       "1             NaN             0             30   \n",
       "2             NaN             0             30   \n",
       "3             NaN             0             30   \n",
       "4             NaN             0             30   \n",
       "\n",
       "             ClassificationLumped LocationLumped  \n",
       "0      Retail & Consumer Products         Sydney  \n",
       "1      Retail & Consumer Products          Other  \n",
       "2      Retail & Consumer Products       Brisbane  \n",
       "3      Retail & Consumer Products          Other  \n",
       "4  Call Centre & Customer Service         Sydney  "
      ]
     },
     "execution_count": 42,
     "metadata": {},
     "output_type": "execute_result"
    }
   ],
   "source": [
    "# remove id, Title, Company, and JobType columns\n",
    "df.drop(['Id', 'Title', 'Company', 'JobType'], axis=1, inplace=True)\n",
    "df.head()"
   ]
  },
  {
   "attachments": {},
   "cell_type": "markdown",
   "metadata": {},
   "source": [
    "### Save preprocessed csv"
   ]
  },
  {
   "cell_type": "code",
   "execution_count": 43,
   "metadata": {},
   "outputs": [],
   "source": [
    "df.to_csv(\"preprocessed_data.csv\")"
   ]
  }
 ],
 "metadata": {
  "kernelspec": {
   "display_name": "base",
   "language": "python",
   "name": "python3"
  },
  "language_info": {
   "codemirror_mode": {
    "name": "ipython",
    "version": 3
   },
   "file_extension": ".py",
   "mimetype": "text/x-python",
   "name": "python",
   "nbconvert_exporter": "python",
   "pygments_lexer": "ipython3",
   "version": "3.9.13"
  },
  "orig_nbformat": 4
 },
 "nbformat": 4,
 "nbformat_minor": 2
}
